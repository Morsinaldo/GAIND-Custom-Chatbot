{
 "cells": [
  {
   "cell_type": "markdown",
   "id": "124e5672",
   "metadata": {},
   "source": [
    "# Custom Chatbot Project"
   ]
  },
  {
   "cell_type": "markdown",
   "id": "2a4a94b3",
   "metadata": {},
   "source": [
    "TODO: In this cell, write an explanation of which dataset you have chosen and why it is appropriate for this task"
   ]
  },
  {
   "cell_type": "code",
   "execution_count": 14,
   "id": "3eecf250",
   "metadata": {},
   "outputs": [],
   "source": [
    "# environment variables\n",
    "\n",
    "OPENAI_API_KEY = 'PUT HERE YOU OPENAPI KEY' \n",
    "\n",
    "SOURCE_URL = 'https://theanalyst.com/eu/2023/05/101-best-premier-league-facts-2022-23'\n",
    "PAGE_FILEPATH = './wikipedia.html'\n",
    "CSV_FILEPATH_WITH_EMBEDDINGS = './wikipedia_with_embeddings.csv'\n",
    "\n",
    "EMBEDDING_MODEL = 'text-embedding-3-small'\n",
    "COMPLETION_MODEL = 'gpt-3.5-turbo'\n",
    "\n",
    "BATCH_SIZE = 25"
   ]
  },
  {
   "cell_type": "markdown",
   "id": "a63d4c5f",
   "metadata": {},
   "source": [
    "## Data Wrangling\n",
    "\n",
    "TODO: In the cells below, load your chosen dataset into a `pandas` dataframe with a column named `\"text\"`. This column should contain all of your text data, separated into at least 20 rows."
   ]
  },
  {
   "cell_type": "code",
   "execution_count": 15,
   "id": "450a55fe",
   "metadata": {},
   "outputs": [],
   "source": [
    "# import libraries\n",
    "\n",
    "import requests\n",
    "import pandas as pd\n",
    "from openai import OpenAI\n",
    "from bs4 import BeautifulSoup\n",
    "from typing import List, Union\n",
    "from scipy.spatial.distance import cosine"
   ]
  },
  {
   "cell_type": "code",
   "execution_count": 16,
   "id": "acb3a9fd",
   "metadata": {},
   "outputs": [],
   "source": [
    "# helpers functions\n",
    "def pull_html_page(url: str):\n",
    "    headers = {\n",
    "        'user-agent': 'Mozilla/5.0 (Macintosh; Intel Mac OS X 10_15_7) AppleWebKit/537.36 (KHTML, like Gecko) Chrome/112.0.0.0 Safari/537.36'\n",
    "    }\n",
    "    response = requests.get(url, headers=headers)\n",
    "    \n",
    "    if response.status_code == 200:\n",
    "        return response.content\n",
    "    else:\n",
    "        raise Exception('Connection error')\n",
    "\n",
    "\n",
    "with open(PAGE_FILEPATH, mode='wb') as html_file:\n",
    "    html_page = pull_html_page(SOURCE_URL)\n",
    "    html_file.write(html_page)"
   ]
  },
  {
   "cell_type": "markdown",
   "id": "d6490915",
   "metadata": {},
   "source": [
    "### Read Page"
   ]
  },
  {
   "cell_type": "code",
   "execution_count": 17,
   "id": "23732d4c",
   "metadata": {},
   "outputs": [],
   "source": [
    "with open(PAGE_FILEPATH) as fp:\n",
    "    soup = BeautifulSoup(fp, 'html.parser')"
   ]
  },
  {
   "cell_type": "code",
   "execution_count": 18,
   "id": "b4f925ac",
   "metadata": {},
   "outputs": [
    {
     "data": {
      "text/plain": [
       "<h2 class=\"has-text-align-center wp-block-heading\"><strong>August</strong></h2>"
      ]
     },
     "execution_count": 18,
     "metadata": {},
     "output_type": "execute_result"
    }
   ],
   "source": [
    "root_dom_node = soup.find('h2', {'class':'has-text-align-center wp-block-heading'})\n",
    "root_dom_node"
   ]
  },
  {
   "cell_type": "code",
   "execution_count": 19,
   "id": "f3322046",
   "metadata": {},
   "outputs": [
    {
     "data": {
      "text/plain": [
       "[<strong>August</strong>,\n",
       " <strong>September</strong>,\n",
       " <strong>October</strong>,\n",
       " <strong>November</strong>,\n",
       " <strong>December</strong>,\n",
       " <strong>January</strong>,\n",
       " <strong>February</strong>,\n",
       " <strong>March</strong>,\n",
       " <strong>April</strong>,\n",
       " <strong>May</strong>]"
      ]
     },
     "execution_count": 19,
     "metadata": {},
     "output_type": "execute_result"
    }
   ],
   "source": [
    "month_headers = [month_header.find_next('strong') for month_header in soup.find_all('h2', {'class':'has-text-align-center wp-block-heading'})]\n",
    "month_headers"
   ]
  },
  {
   "cell_type": "code",
   "execution_count": 20,
   "id": "ef81cd04",
   "metadata": {},
   "outputs": [],
   "source": [
    "current_month = None\n",
    "data = []\n",
    "\n",
    "for node in root_dom_node.find_all_next():\n",
    "    if node in month_headers:\n",
    "        current_month = node.text\n",
    "    elif node.name == 'ul':\n",
    "        data.append(f\"{current_month} 2024 -- {node.find_next('li').text.strip()}\")"
   ]
  },
  {
   "cell_type": "code",
   "execution_count": 22,
   "id": "abdc8682",
   "metadata": {},
   "outputs": [
    {
     "data": {
      "text/html": [
       "<div>\n",
       "<style scoped>\n",
       "    .dataframe tbody tr th:only-of-type {\n",
       "        vertical-align: middle;\n",
       "    }\n",
       "\n",
       "    .dataframe tbody tr th {\n",
       "        vertical-align: top;\n",
       "    }\n",
       "\n",
       "    .dataframe thead th {\n",
       "        text-align: right;\n",
       "    }\n",
       "</style>\n",
       "<table border=\"1\" class=\"dataframe\">\n",
       "  <thead>\n",
       "    <tr style=\"text-align: right;\">\n",
       "      <th></th>\n",
       "      <th>text</th>\n",
       "    </tr>\n",
       "  </thead>\n",
       "  <tbody>\n",
       "    <tr>\n",
       "      <th>0</th>\n",
       "      <td>August 2024 -- On 13 August 2022, Manchester City ended the day top and Manchester United ended the day bottom of the top-flight table for the first time since 29 November 1929.</td>\n",
       "    </tr>\n",
       "    <tr>\n",
       "      <th>1</th>\n",
       "      <td>August 2024 -- Erik ten Hag became the first manager to lose each of his first two games in charge of Manchester United since John Chapman in November 1921.</td>\n",
       "    </tr>\n",
       "    <tr>\n",
       "      <th>2</th>\n",
       "      <td>August 2024 -- Harry Kane netted his 185th Premier League goal for Tottenham Hotspur against Wolves, overtaking Sergio Aguero’s record for Premier League goals for a single club (184 for Manchester City).</td>\n",
       "    </tr>\n",
       "    <tr>\n",
       "      <th>3</th>\n",
       "      <td>August 2024 -- Brenden Aaronson’s opening goal in Leeds’ 3-0 win against Chelsea was the first time an American player scored under an American manager (Jesse Marsch) in Premier League history.</td>\n",
       "    </tr>\n",
       "    <tr>\n",
       "      <th>4</th>\n",
       "      <td>August 2024 -- Darwin Núñez came off the bench to score and assist on his Premier League debut for Liverpool against Fulham, only the third player to score and assist as a substitute on debut, along with Sergio Aguero (2011) and Alvaro Morata (2017).</td>\n",
       "    </tr>\n",
       "  </tbody>\n",
       "</table>\n",
       "</div>"
      ],
      "text/plain": [
       "                                                                                                                                                                                                                                                         text\n",
       "0                                                                           August 2024 -- On 13 August 2022, Manchester City ended the day top and Manchester United ended the day bottom of the top-flight table for the first time since 29 November 1929.\n",
       "1                                                                                                August 2024 -- Erik ten Hag became the first manager to lose each of his first two games in charge of Manchester United since John Chapman in November 1921.\n",
       "2                                                August 2024 -- Harry Kane netted his 185th Premier League goal for Tottenham Hotspur against Wolves, overtaking Sergio Aguero’s record for Premier League goals for a single club (184 for Manchester City).\n",
       "3                                                           August 2024 -- Brenden Aaronson’s opening goal in Leeds’ 3-0 win against Chelsea was the first time an American player scored under an American manager (Jesse Marsch) in Premier League history.\n",
       "4  August 2024 -- Darwin Núñez came off the bench to score and assist on his Premier League debut for Liverpool against Fulham, only the third player to score and assist as a substitute on debut, along with Sergio Aguero (2011) and Alvaro Morata (2017)."
      ]
     },
     "execution_count": 22,
     "metadata": {},
     "output_type": "execute_result"
    }
   ],
   "source": [
    "import pandas as pd\n",
    "\n",
    "pd.set_option('display.max_colwidth', None)  \n",
    "pd.set_option('display.max_rows', None)  \n",
    "\n",
    "df = pd.DataFrame(data, columns=['text'])\n",
    "df.head()"
   ]
  },
  {
   "cell_type": "code",
   "execution_count": 23,
   "id": "e7c37991",
   "metadata": {},
   "outputs": [
    {
     "data": {
      "text/plain": [
       "(101, 1)"
      ]
     },
     "execution_count": 23,
     "metadata": {},
     "output_type": "execute_result"
    }
   ],
   "source": [
    "df.shape"
   ]
  },
  {
   "cell_type": "markdown",
   "id": "80f2763b",
   "metadata": {},
   "source": [
    "### Create Embedding Database"
   ]
  },
  {
   "cell_type": "code",
   "execution_count": null,
   "id": "94787ab5",
   "metadata": {},
   "outputs": [],
   "source": [
    "from openai import OpenAI\n",
    "\n",
    "client = OpenAI(api_key=OPENAI_API_KEY)"
   ]
  },
  {
   "cell_type": "code",
   "execution_count": null,
   "id": "a31cc46b",
   "metadata": {},
   "outputs": [],
   "source": [
    "pd.reset_option('display.max_colwidth')  \n",
    "pd.reset_option('display.max_rows')  \n",
    "\n",
    "def get_embeddings(prompt: Union[str, List[str]], embedding_model: str) -> List[List[float]]:\n",
    "    response = client.embeddings.create(\n",
    "            input=prompt if type(prompt) is list else [prompt],\n",
    "            model=embedding_model\n",
    "    )\n",
    "    return [row.embedding for row in response.data]\n",
    "                                                                                     \n",
    "\n",
    "def create_embeddings(df, embedding_model_name: str = EMBEDDING_MODEL, batch_size: int = 25) -> List[List[float]]:\n",
    "    output = []\n",
    "    for idx in range(0, len(df), BATCH_SIZE):\n",
    "        batch = df.iloc[idx:idx+BATCH_SIZE].tolist()\n",
    "        embeddings = get_embeddings(batch, embedding_model_name)\n",
    "        output.extend(embeddings)\n",
    "\n",
    "    return output\n",
    "\n",
    "df['embedding'] = create_embeddings(df['text'])\n",
    "df.to_csv(CSV_FILEPATH_WITH_EMBEDDINGS, sep=',', index=False)    \n",
    "df.head()"
   ]
  },
  {
   "cell_type": "markdown",
   "id": "ae769871",
   "metadata": {},
   "source": [
    "## Custom Query Completion\n",
    "\n",
    "TODO: In the cells below, compose a custom query using your chosen dataset and retrieve results from an OpenAI `Completion` model. You may copy and paste any useful code from the course materials."
   ]
  },
  {
   "cell_type": "code",
   "execution_count": null,
   "id": "582f0656",
   "metadata": {},
   "outputs": [],
   "source": [
    "# create client\n",
    "client = OpenAI(api_key=OPENAI_API_KEY)"
   ]
  },
  {
   "cell_type": "code",
   "execution_count": null,
   "id": "8b6e1f75",
   "metadata": {},
   "outputs": [],
   "source": [
    "def build_simple_prompt(question: str):\n",
    "    return [\n",
    "        {\n",
    "            'role': 'user',\n",
    "            'content': question\n",
    "        }\n",
    "    ]\n",
    "\n",
    "def build_custom_prompt(question: str, database_df):\n",
    "    return [\n",
    "        {\n",
    "            'role': 'system',\n",
    "            'content': \"\"\"\n",
    "            Anser the question based on provided context below. If the question cannot be answered based on provided context, say \"I don't know the answer\". We have 2024. Context contains facts from season 2022/2023 for English Premier League. Facts are annotated with date and seperated by lines. \n",
    "            Context: \n",
    "                {}\n",
    "            \"\"\".format('\\n\\n'.join(build_custom_context(question, database_df)))\n",
    "        },\n",
    "        {\n",
    "            'role': 'user',\n",
    "            'content': question\n",
    "        }\n",
    "    ]\n",
    "\n",
    "def build_custom_context(question: str, database_df: df, n: int = 5):\n",
    "    question_embedding = get_embeddings(question, EMBEDDING_MODEL)[0]\n",
    "    \n",
    "    df = database_df.copy()\n",
    "    df[\"distances\"] = df['embedding'].apply(lambda embedding: cosine(embedding, question_embedding))\n",
    "\n",
    "    df.sort_values(\"distances\", ascending=True, inplace=True)\n",
    "    return df.iloc[:n]['text'].tolist()\n",
    "\n",
    "\n",
    "def get_embeddings(prompt: Union[str, List[str]], embedding_model: str) -> List[List[float]]:\n",
    "    response = client.embeddings.create(\n",
    "            input=prompt if type(prompt) is list else [prompt],\n",
    "            model=embedding_model\n",
    "    )\n",
    "    return [row.embedding for row in response.data]\n",
    "\n",
    "def handle_question(prompt, model_name: str = COMPLETION_MODEL):\n",
    "    response = client.chat.completions.create(\n",
    "        model=model_name,\n",
    "        messages=prompt,\n",
    "        max_tokens=100\n",
    "    )\n",
    "    return response.choices[0].message.content"
   ]
  },
  {
   "cell_type": "code",
   "execution_count": null,
   "id": "13f2dcd7",
   "metadata": {},
   "outputs": [],
   "source": []
  },
  {
   "cell_type": "code",
   "execution_count": null,
   "id": "c403f543",
   "metadata": {},
   "outputs": [],
   "source": []
  },
  {
   "cell_type": "code",
   "execution_count": null,
   "id": "74280b92",
   "metadata": {},
   "outputs": [],
   "source": []
  },
  {
   "cell_type": "markdown",
   "id": "1783f146",
   "metadata": {},
   "source": [
    "## Custom Performance Demonstration\n",
    "\n",
    "TODO: In the cells below, demonstrate the performance of your custom query using at least 2 questions. For each question, show the answer from a basic `Completion` model query as well as the answer from your custom query."
   ]
  },
  {
   "cell_type": "code",
   "execution_count": null,
   "id": "55803746",
   "metadata": {},
   "outputs": [],
   "source": [
    "df = pd.read_csv(CSV_FILEPATH_WITH_EMBEDDINGS)\n",
    "df['embedding'] = df['embedding'].apply(lambda value: [float(dim) for dim in value.replace('[', '').replace(']', '').split(',')])"
   ]
  },
  {
   "cell_type": "markdown",
   "id": "4f11fdc0",
   "metadata": {},
   "source": [
    "### Question 1"
   ]
  },
  {
   "cell_type": "code",
   "execution_count": null,
   "id": "4901c850",
   "metadata": {},
   "outputs": [],
   "source": [
    "question = 'Who did win the Premier League in season 2022/2023?'\n",
    "print('__Answer:__', handle_question(build_simple_prompt(question)))\n",
    "print('__Answer with Context:__', handle_question(build_custom_prompt(question, df)))"
   ]
  },
  {
   "cell_type": "code",
   "execution_count": null,
   "id": "bd7a093b",
   "metadata": {},
   "outputs": [],
   "source": []
  },
  {
   "cell_type": "markdown",
   "id": "6e86e37c",
   "metadata": {},
   "source": [
    "### Question 2"
   ]
  },
  {
   "cell_type": "code",
   "execution_count": null,
   "id": "6f646989",
   "metadata": {},
   "outputs": [],
   "source": [
    "question = 'What football team did Harry Kane play in in season 2022/2023?'\n",
    "print('__Answer:__', handle_question(build_simple_prompt(question)))\n",
    "print('__Answer with Context:__', handle_question(build_custom_prompt(question, df)))"
   ]
  },
  {
   "cell_type": "code",
   "execution_count": null,
   "id": "11c07a54",
   "metadata": {},
   "outputs": [],
   "source": []
  },
  {
   "cell_type": "markdown",
   "id": "1c42251f",
   "metadata": {},
   "source": [
    "### Question 3"
   ]
  },
  {
   "cell_type": "code",
   "execution_count": null,
   "id": "5a93a851",
   "metadata": {},
   "outputs": [],
   "source": [
    "question = 'What team did finish the match with the most competitive win? What was the result? Who was the opponent?'\n",
    "print('__Answer:__', handle_question(build_simple_prompt(question)))\n",
    "print('__Answer with Context:__', handle_question(build_custom_prompt(question, df)))"
   ]
  }
 ],
 "metadata": {
  "kernelspec": {
   "display_name": "Python 3 (ipykernel)",
   "language": "python",
   "name": "python3"
  },
  "language_info": {
   "codemirror_mode": {
    "name": "ipython",
    "version": 3
   },
   "file_extension": ".py",
   "mimetype": "text/x-python",
   "name": "python",
   "nbconvert_exporter": "python",
   "pygments_lexer": "ipython3",
   "version": "3.9.18"
  }
 },
 "nbformat": 4,
 "nbformat_minor": 5
}
